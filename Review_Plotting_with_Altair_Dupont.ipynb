{
 "cells": [
  {
   "cell_type": "markdown",
   "id": "greater-luxury",
   "metadata": {},
   "source": [
    "<img src='images/gdd-logo.png' width='300px' align='right' style=\"padding: 15px\">\n",
    "\n",
    "# Plotting with Altair Review: DuPont\n",
    "\n",
    "We shall use the following DuPont dataset to practice data analysis with Pandas.\n",
    "\n",
    "<mark style=\"color: white; background-color:darkred\">Note: If you are using Binder, to use this you must upload the `logins.csv` file to the `data` folder from the SharePoint. It is not available on Binder.</mark>\n",
    "\n",
    "```\n",
    "data/logins.csv\n",
    "```\n",
    "\n",
    "It is a dataset containing information about when DuPont employees have logged on to an online platform.\n",
    "\n",
    "We shall first help you to load in the data (as it is in an unsual format for Python) and provide some context about the dataset,\n",
    "- [Loading in the data](#load)\n",
    "- [Initial Visualization](#first)\n",
    "\n",
    "Further visualization:\n",
    "- [Looking into weekly trends](#week)\n",
    "- [Looking into daily trends](#day)\n"
   ]
  },
  {
   "cell_type": "markdown",
   "id": "involved-things",
   "metadata": {},
   "source": [
    "<a id='load'></a>\n",
    "\n",
    "## Loading in the data\n",
    "\n",
    "In the previous notebook you read in the binary Excel file and converted to a csv. For this notebook we will use the csv file."
   ]
  },
  {
   "cell_type": "code",
   "execution_count": null,
   "id": "acceptable-choice",
   "metadata": {},
   "outputs": [],
   "source": [
    "import pandas as pd\n",
    "import altair as alt"
   ]
  },
  {
   "cell_type": "markdown",
   "id": "municipal-recruitment",
   "metadata": {},
   "source": [
    "As mentioned earlier, the dataset contains information about when DuPont employees have logged on to an online platform."
   ]
  },
  {
   "cell_type": "code",
   "execution_count": null,
   "id": "sufficient-thong",
   "metadata": {},
   "outputs": [],
   "source": [
    "logins = (\n",
    "    pd.read_csv('data/logins.csv', parse_dates=['login_date'])\n",
    "    .assign(company=lambda df: df['location'].str.split(':').str[0].str.strip())\n",
    "    .dropna(subset='company')\n",
    ")\n",
    "logins.head()"
   ]
  },
  {
   "cell_type": "markdown",
   "id": "b5383727",
   "metadata": {},
   "source": [
    "Since we'll be using Altair, we need to sample our data to `5000` rows. It's a good idea to do this on sample and get the charts right. Once we have done this and have some nice visuals we can run `alt.data_transformers.disable_max_rows()` and then re-run our visualisations on the full data."
   ]
  },
  {
   "cell_type": "code",
   "execution_count": null,
   "id": "4936bb7c",
   "metadata": {},
   "outputs": [],
   "source": [
    "logins_sample = logins.sample(5000)"
   ]
  },
  {
   "cell_type": "markdown",
   "id": "158f1c9f",
   "metadata": {},
   "source": [
    "<a id='first'></a>\n",
    "\n",
    "## Initial Visualization\n",
    "\n",
    "It's always good to have a think about what you want to visualize. We see that there are logins with timestamps, so one area we might want to look into is: **What are the number of logins over time?**\n",
    "\n",
    "When working with time series data like this, it makes sense to plot x as the time series and see how the volume of logins changes over time.\n",
    "\n",
    "Note how in the below code we:\n",
    "- Use `alt.Chart(logins_sample)` to set up the chart\n",
    "- Use `.mark_line()` to create this as a line chart\n",
    "- Use `.encode()` to have the x axis as the `login_date` and the y axis as `full`\n",
    "- Use `.properties()` to set the chart size to `300x800`"
   ]
  },
  {
   "cell_type": "code",
   "execution_count": null,
   "id": "fab544d5",
   "metadata": {},
   "outputs": [],
   "source": [
    "alt.Chart(logins_sample).mark_line().encode(\n",
    "    x='login_date:T',\n",
    "    y='full'\n",
    ").properties(\n",
    "    height=300,\n",
    "    width=800\n",
    ")"
   ]
  },
  {
   "cell_type": "markdown",
   "id": "bb399a2f",
   "metadata": {},
   "source": [
    "The above chart shows us some seasonality, probably with weekly trends. As well as this there is a lot of noise, since there are so many observations for each time period. Therefore there are two areas we can investigate further:\n",
    "\n",
    "1. [Weekly trends](#weekly)\n",
    "    - Which day of the week has the most logins?\n",
    "    \n",
    "    \n",
    "2. [Daily trends](#day)\n",
    "    - What time of day has the most?"
   ]
  },
  {
   "cell_type": "markdown",
   "id": "40fac3d1",
   "metadata": {},
   "source": [
    "**<mark>Execise: Plot a bar plot</mark>**\n",
    "\n",
    "- Plot an altair chart using the `alt.Chart()` with the new `logins_weekly` data and with `.mark_bar()` to create a bar plot.\n",
    "- Use `x='day(login_date)` to plot each day of the week. Use the right data code (`'Q'`, `'O'`, `'N'` or `'T'`)\n",
    "- Use ` y= 'sum(full)'` so that each bar represents the sum of the `full` column"
   ]
  },
  {
   "cell_type": "code",
   "execution_count": null,
   "id": "31567eaf",
   "metadata": {},
   "outputs": [],
   "source": []
  },
  {
   "cell_type": "markdown",
   "id": "93808eea",
   "metadata": {},
   "source": [
    "**<mark>Execise: Plotting</mark>**\n",
    "\n",
    "- Create a chart with your new dataframe, in the same way as above, and add a color argument to color the bars according to `company`\n",
    "- Change the `width` of the bars in `.mark_bar()`\n",
    "- Change the `width` and `height` of the chart in `.properties()` to `800` and `300`"
   ]
  },
  {
   "cell_type": "code",
   "execution_count": null,
   "id": "206d3e11",
   "metadata": {},
   "outputs": [],
   "source": []
  },
  {
   "cell_type": "markdown",
   "id": "642fee7d",
   "metadata": {},
   "source": [
    "**<mark>Bonus: Add a selector</mark>**\n",
    "\n",
    "Copy & paste your code from above and then do the following:\n",
    "\n",
    "- Create the variable `selector = alt.selection_single(encodings=['x', 'color'])` (above the chart code)\n",
    "- Change the `color` argument to be dependent on the selector: `alt.condition(selector, 'company', alt.value('lightgray'))`\n",
    "- Add `.add_selection()` and use the parameter `selector`"
   ]
  },
  {
   "cell_type": "code",
   "execution_count": null,
   "id": "3ddc3430",
   "metadata": {},
   "outputs": [],
   "source": []
  },
  {
   "cell_type": "markdown",
   "id": "6db7dee8",
   "metadata": {},
   "source": [
    "***Answers***"
   ]
  },
  {
   "cell_type": "code",
   "execution_count": null,
   "id": "5fc8ac85",
   "metadata": {},
   "outputs": [],
   "source": [
    "# %load answers/alt-weekly-trends-plotting.py"
   ]
  },
  {
   "cell_type": "code",
   "execution_count": null,
   "id": "f8dfbe81",
   "metadata": {},
   "outputs": [],
   "source": [
    "# %load answers/alt-weekly-trends-company-plotting.py"
   ]
  },
  {
   "cell_type": "code",
   "execution_count": null,
   "id": "996ca420",
   "metadata": {},
   "outputs": [],
   "source": [
    "# %load answers/alt-weekly-trends-company-plotting-bonus.py"
   ]
  },
  {
   "cell_type": "markdown",
   "id": "696357b2",
   "metadata": {},
   "source": [
    "<a id='day'></a>\n",
    "\n",
    "## 2. The daily trends\n",
    "\n",
    "In the plot it was also clear that there were daily trends show by the thin spikes:"
   ]
  },
  {
   "cell_type": "code",
   "execution_count": null,
   "id": "e52c5596",
   "metadata": {},
   "outputs": [],
   "source": [
    "alt.Chart(logins_sample).mark_line().encode(\n",
    "    x='login_date',\n",
    "    y='full'\n",
    ").properties(\n",
    "    height=300,\n",
    "    width=800\n",
    ")"
   ]
  },
  {
   "cell_type": "markdown",
   "id": "af16ca40",
   "metadata": {},
   "source": [
    "**<mark>Execise: Plotting</mark>**\n",
    "\n",
    "- Create a chart using `logins_sample`\n",
    "- The mark type should be `.mark_line()`\n",
    "- Use `.encode()` with `x=day(login_date)'` and `y='sum(full)'`\n",
    "- Set the `color=` in `.encode()` to be `day_of_week`. Which is the right data code to use (`:Q`, `:O` or `:N`)"
   ]
  },
  {
   "cell_type": "code",
   "execution_count": null,
   "id": "c35a1d38",
   "metadata": {},
   "outputs": [],
   "source": []
  },
  {
   "cell_type": "markdown",
   "id": "08fddb2b",
   "metadata": {},
   "source": [
    "**<mark>Bonus: Customisation</mark>**\n",
    "\n",
    "Copy & paste your code from above and then do the following:\n",
    "\n",
    "- Change the `strokeWidth` in `.mark_line()` to `3`\n",
    "- Is it necessary to also plot Saturday and Sunday? Use `.transform_filter()` and `alt.FieldOneOfPredicate(` to keep only working days:\n",
    "```python\n",
    ".transform_filter(\n",
    "    alt.FieldOneOfPredicate(field='login_date', timeUnit='day', oneOf=['Mon', 'Tue', 'Wed', 'Thu', 'Fri'])\n",
    ")\n",
    "```\n",
    "- Add the `.properties()` method to change the size of the chart and to add a `title`\n",
    "- Add a `title` to your chart inside `.properties()`\n",
    "- Add labels to the x and y axis, this is done in `.encode()`: `x=alt.X('name_of_column', axis=alt.Axis(title='Chosen Label'))`\n",
    "- Add `.interactive()` to your chart to allow scrolling in and out.\n",
    "- Add a `selector` so that you can select the lines\n",
    "``` python\n",
    "# Step 1: create the selector variable\n",
    "selector = alt.selection_single(encodings=['x', 'color'])\n",
    "```\n",
    "``` python\n",
    "# Step 2: add the method to the chart\n",
    ".add_selection(\n",
    "    selector\n",
    ")\n",
    "```\n",
    "``` python\n",
    "# Step 3: add the condition to the color argument in encode\n",
    "color=alt.condition(selector, 'day(login_date):O', alt.value('lightgray'))\n",
    "```"
   ]
  },
  {
   "cell_type": "code",
   "execution_count": null,
   "id": "932134b8",
   "metadata": {},
   "outputs": [],
   "source": []
  },
  {
   "cell_type": "markdown",
   "id": "2c4b928c",
   "metadata": {},
   "source": [
    "***Answers***"
   ]
  },
  {
   "cell_type": "code",
   "execution_count": null,
   "id": "89d53110",
   "metadata": {},
   "outputs": [],
   "source": [
    "# %load answers/alt-daily-trends-plotting.py"
   ]
  },
  {
   "cell_type": "code",
   "execution_count": null,
   "id": "91d23464",
   "metadata": {},
   "outputs": [],
   "source": [
    "# %load answers/alt-daily-trends-bonus.py"
   ]
  },
  {
   "cell_type": "markdown",
   "id": "dd15e7ed",
   "metadata": {},
   "source": [
    "# Next Steps - Change up the default colors and max_rows!\n",
    "\n",
    "Now that we have some charts, we might want to visualise the entire data. As well as changing the defaults to allow more rows, we can also change the color theme. Altair offers a great out-of-the-box visuals that are professional and easy to look at, however we can change the style to suit our company. \n",
    "\n",
    "<mark>**Exercise: Change the colors to Dupont colors**</mark>\n",
    "\n",
    "Look for where the two colors `green` and `blue` are defined in the code below. Change the colors so that they match the branding of Dupont and IFF.\n",
    "\n",
    "Struggling to find the right colors? You can retrieve the HEX color from images here: https://imagecolorpicker.com/en\n",
    "Try uploading the Dupont and IFF logos and get the exact colors!"
   ]
  },
  {
   "cell_type": "code",
   "execution_count": null,
   "id": "c1e537c2",
   "metadata": {},
   "outputs": [],
   "source": [
    "alt.data_transformers.disable_max_rows()\n",
    "\n",
    "def my_theme():\n",
    "    return {\n",
    "        'config': {\n",
    "            'view': {'continuousHeight': 300, 'continuousWidth': 800},  # from the default theme\n",
    "            'range': {'category': ['green', 'blue']}\n",
    "        }\n",
    "    }\n",
    "\n",
    "alt.themes.register('my_theme', my_theme)\n",
    "alt.themes.enable('my_theme')\n",
    "\n",
    "login_days = (\n",
    "    logins_sample\n",
    "    .assign(company = lambda df: df['location'].str.split(':').str[0].str.strip(),\n",
    "            day_of_year = lambda df: df['login_date'].dt.day_of_year)\n",
    "    .dropna()\n",
    ")\n",
    "\n",
    "alt.Chart(logins).mark_line().encode(\n",
    "    x='monthdate(login_date):T',\n",
    "    y='sum(full)',\n",
    "    color='company'\n",
    ").properties(\n",
    "    title='Logins over the Year'\n",
    ")"
   ]
  },
  {
   "cell_type": "markdown",
   "id": "dfe2dd98",
   "metadata": {},
   "source": [
    "<img src=images/gdd-logo.png align=right width=300px>\n",
    "\n",
    "# Conclusion\n",
    "\n",
    "In this noteboook we have looked at how Altair can be used as a data centric way of plotting charts. There are still some data wrangling techniques that we need to use, and we need to remember that our data needs to be names (no `numpy` allowed)\n",
    "\n",
    "In this notebook we have covered:\n",
    "\n",
    "- Initial visual inspection\n",
    "- Looking into trends by creating time specific columns and grouping by them\n",
    "- Different ways to visualize daily and weekly trends"
   ]
  }
 ],
 "metadata": {
  "kernelspec": {
   "display_name": "Python 3 (ipykernel)",
   "language": "python",
   "name": "python3"
  },
  "language_info": {
   "codemirror_mode": {
    "name": "ipython",
    "version": 3
   },
   "file_extension": ".py",
   "mimetype": "text/x-python",
   "name": "python",
   "nbconvert_exporter": "python",
   "pygments_lexer": "ipython3",
   "version": "3.9.7"
  }
 },
 "nbformat": 4,
 "nbformat_minor": 5
}
